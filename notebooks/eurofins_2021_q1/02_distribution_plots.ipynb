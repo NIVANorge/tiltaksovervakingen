{
 "cells": [
  {
   "cell_type": "code",
   "execution_count": 1,
   "metadata": {},
   "outputs": [
    {
     "data": {
      "text/plain": [
       "DataTransformerRegistry.enable('json')"
      ]
     },
     "execution_count": 1,
     "metadata": {},
     "output_type": "execute_result"
    }
   ],
   "source": [
    "import glob\n",
    "import os\n",
    "import shutil\n",
    "import sqlite3\n",
    "\n",
    "import altair as alt\n",
    "import numpy as np\n",
    "import pandas as pd\n",
    "\n",
    "#alt.data_transformers.disable_max_rows()\n",
    "alt.data_transformers.enable(\"json\")"
   ]
  },
  {
   "cell_type": "markdown",
   "metadata": {},
   "source": [
    "# Tiltaksovervakingen: opsjon for kvalitetskontroll av analysedata\n",
    "## Notebook 2: Visualising overall parameter distributions\n",
    "\n",
    "This notebook produces the plots [here](https://nivanorge.github.io/tiltaksovervakingen/pages/distribution_plots.html)."
   ]
  },
  {
   "cell_type": "markdown",
   "metadata": {},
   "source": [
    "## 1. Read data\n",
    "\n",
    "Read the tables from the tidied database."
   ]
  },
  {
   "cell_type": "code",
   "execution_count": 2,
   "metadata": {},
   "outputs": [],
   "source": [
    "# Connect to database\n",
    "dbname = \"kalk_data.db\"\n",
    "eng = sqlite3.connect(dbname, detect_types=sqlite3.PARSE_DECLTYPES)"
   ]
  },
  {
   "cell_type": "code",
   "execution_count": 3,
   "metadata": {},
   "outputs": [],
   "source": [
    "# Read tables\n",
    "stn_df = pd.read_sql(\"SELECT * FROM stations\", eng)\n",
    "par_df = pd.read_sql(\"SELECT * FROM parameters_units\", eng)\n",
    "wc_df = pd.read_sql(\"SELECT * FROM water_chemistry\", eng)\n",
    "wc_df[\"sample_date\"] = pd.to_datetime(wc_df[\"sample_date\"], format=\"%Y-%m-%d %H:%M:%S\")\n",
    "wc_df[\"parameter_unit\"] = wc_df[\"parameter\"] + \"_\" + wc_df[\"unit\"]"
   ]
  },
  {
   "cell_type": "code",
   "execution_count": 4,
   "metadata": {},
   "outputs": [],
   "source": [
    "# Set axis scale for plots\n",
    "ax_scale = \"Linear\"  # Or 'Log'"
   ]
  },
  {
   "cell_type": "code",
   "execution_count": 5,
   "metadata": {},
   "outputs": [],
   "source": [
    "# Subset data to just the quarter of interest\n",
    "qtr = \"q1\"\n",
    "\n",
    "months_dict = {\n",
    "    \"q1\": [1, 2, 3],\n",
    "    \"q2\": [4, 5, 6],\n",
    "    \"q3\": [7, 8, 9],\n",
    "    \"q4\": [10, 11, 12],\n",
    "}\n",
    "months = months_dict[qtr]\n",
    "wc_df = wc_df[wc_df[\"sample_date\"].dt.month.isin(months)]"
   ]
  },
  {
   "cell_type": "markdown",
   "metadata": {},
   "source": [
    "## 2. Build visualisation"
   ]
  },
  {
   "cell_type": "code",
   "execution_count": 6,
   "metadata": {},
   "outputs": [],
   "source": [
    "# Build drop-down list\n",
    "par_list = [\"None\"] + sorted(wc_df[\"parameter_unit\"].unique())\n",
    "input_dropdown = alt.binding_select(options=par_list)\n",
    "selection = alt.selection_single(\n",
    "    fields=[\"parameter_unit\"], bind=input_dropdown, name=\"Select\"\n",
    ")"
   ]
  },
  {
   "cell_type": "code",
   "execution_count": 7,
   "metadata": {},
   "outputs": [],
   "source": [
    "# Choose the 'new' lab of interest ('VestfoldLAB' or 'Eurofins')\n",
    "lab = \"Eurofins\"\n",
    "\n",
    "# Ticks\n",
    "ticks = (\n",
    "    alt.Chart(\n",
    "        wc_df,\n",
    "        height=150,\n",
    "        width=450,\n",
    "        title=\"Strip plot\",\n",
    "    )\n",
    "    .add_selection(selection)\n",
    "    .transform_filter(selection)\n",
    "    .mark_tick(\n",
    "        thickness=2,\n",
    "        size=30,\n",
    "        opacity=0.3,\n",
    "    )\n",
    "    .encode(\n",
    "        x=alt.X(\"value:Q\", title=\"Value\", scale=alt.Scale(type=ax_scale.lower())),\n",
    "        y=alt.Y(\n",
    "            \"lab:N\",\n",
    "            title=\"\",\n",
    "            sort=[\n",
    "                \"NIVA (historic)\",\n",
    "                \"VestfoldLAB (historic)\",\n",
    "                lab,\n",
    "            ],\n",
    "        ),\n",
    "        color=\"lab:N\",\n",
    "        tooltip=[\n",
    "            \"vannmiljo_code:N\",\n",
    "            \"sample_date:T\",\n",
    "            \"lab:N\",\n",
    "            \"parameter:N\",\n",
    "            \"unit:N\",\n",
    "            \"value:Q\",\n",
    "        ],\n",
    "    )\n",
    "    .interactive()\n",
    ")\n",
    "\n",
    "ticks.configure_axis(\n",
    "    labelFontSize=16,\n",
    "    titleFontSize=20,\n",
    ").configure_legend(labelFontSize=16)\n",
    "\n",
    "# Q-Q plot\n",
    "base = alt.Chart(wc_df, height=300, width=450, title=\"Q-Q plot\")\n",
    "\n",
    "scatter = (\n",
    "    base.transform_filter(selection)\n",
    "    .transform_quantile(\n",
    "        \"value\",\n",
    "        step=0.05,\n",
    "        as_=[\"percentile\", \"value\"],\n",
    "        groupby=[\"period\"],\n",
    "    )\n",
    "    .transform_pivot(\"period\", groupby=[\"percentile\"], value=\"value\")\n",
    "    .mark_point()\n",
    "    .encode(\n",
    "        x=alt.X(\n",
    "            \"historic:Q\", title=\"Historic data\", scale=alt.Scale(type=ax_scale.lower())\n",
    "        ),\n",
    "        y=alt.Y(\"new:Q\", title=\"New data\", scale=alt.Scale(type=ax_scale.lower())),\n",
    "        color=alt.Color(\"percentile:Q\", scale=alt.Scale(scheme=\"turbo\")),\n",
    "        tooltip=[\"percentile:Q\", \"historic:Q\", \"new:Q\"],\n",
    "    )\n",
    "    .interactive()\n",
    ")\n",
    "\n",
    "# 1:1 line\n",
    "line = (\n",
    "    base.transform_filter(selection)\n",
    "    .transform_quantile(\n",
    "        \"value\",\n",
    "        step=0.05,\n",
    "        as_=[\"percentile\", \"value\"],\n",
    "        groupby=[\"period\"],\n",
    "    )\n",
    "    .transform_pivot(\"period\", groupby=[\"percentile\"], value=\"value\")\n",
    "    .mark_line()\n",
    "    .encode(\n",
    "        x=alt.X(\"historic:Q\", title=\"\", scale=alt.Scale(type=ax_scale.lower())),\n",
    "        y=alt.Y(\"historic:Q\", title=\"\", scale=alt.Scale(type=ax_scale.lower())),\n",
    "    )\n",
    ")\n",
    "\n",
    "qq_plot = scatter + line\n",
    "qq_plot.configure_axis(\n",
    "    labelFontSize=16,\n",
    "    titleFontSize=20,\n",
    ").configure_legend(labelFontSize=16)\n",
    "\n",
    "# KDE plot\n",
    "kde = (\n",
    "    alt.Chart(\n",
    "        wc_df,\n",
    "        height=160,\n",
    "        width=450,\n",
    "        title=\"Density plot\",\n",
    "    )\n",
    "    .transform_filter(selection)\n",
    "    .transform_density(\n",
    "        density=\"value\",\n",
    "        groupby=[\"lab\"],\n",
    "    )\n",
    "    .mark_area(\n",
    "        opacity=0.3,\n",
    "    )\n",
    "    .encode(\n",
    "        x=alt.X(\"value:Q\", title=\"Value\", scale=alt.Scale(type=ax_scale.lower())),\n",
    "        y=alt.Y(\"density:Q\", title=\"\"),\n",
    "        color=\"lab:N\",\n",
    "        row=alt.Row(\n",
    "            \"lab:N\",\n",
    "            title=\"\",\n",
    "            sort=[\n",
    "                \"NIVA (historic)\",\n",
    "                \"VestfoldLAB (historic)\",\n",
    "                \"Eurofins\",\n",
    "            ],\n",
    "        ),\n",
    "    )\n",
    "    .interactive()\n",
    ")\n",
    "\n",
    "kde.configure_axis(\n",
    "    labelFontSize=16,\n",
    "    titleFontSize=20,\n",
    ").configure_legend(labelFontSize=16)\n",
    "\n",
    "chart = (ticks & qq_plot) | kde\n",
    "chart.save(\"distribution_plots.json\")"
   ]
  },
  {
   "cell_type": "code",
   "execution_count": 8,
   "metadata": {},
   "outputs": [],
   "source": [
    "#chart"
   ]
  },
  {
   "cell_type": "code",
   "execution_count": 9,
   "metadata": {},
   "outputs": [],
   "source": [
    "# Move files to 'pages' folder\n",
    "flist = glob.glob(\"*.json\")\n",
    "for fpath in flist:\n",
    "    shutil.copy(fpath, \"../../pages/\")\n",
    "    os.remove(fpath)"
   ]
  }
 ],
 "metadata": {
  "kernelspec": {
   "display_name": "Python 3",
   "language": "python",
   "name": "python3"
  },
  "language_info": {
   "codemirror_mode": {
    "name": "ipython",
    "version": 3
   },
   "file_extension": ".py",
   "mimetype": "text/x-python",
   "name": "python",
   "nbconvert_exporter": "python",
   "pygments_lexer": "ipython3",
   "version": "3.8.6"
  }
 },
 "nbformat": 4,
 "nbformat_minor": 4
}
