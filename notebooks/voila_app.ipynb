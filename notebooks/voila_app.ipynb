{
 "cells": [
  {
   "cell_type": "code",
   "execution_count": 1,
   "metadata": {},
   "outputs": [],
   "source": [
    "import sqlite3\n",
    "\n",
    "import altair as alt\n",
    "import ipywidgets as widgets\n",
    "import matplotlib.pyplot as plt\n",
    "import nivapy3 as nivapy\n",
    "import numpy as np\n",
    "import pandas as pd\n",
    "import seaborn as sn\n",
    "from IPython.display import Image, Markdown, clear_output, display\n",
    "\n",
    "alt.data_transformers.disable_max_rows()\n",
    "plt.style.use(\"ggplot\")"
   ]
  },
  {
   "cell_type": "markdown",
   "metadata": {},
   "source": [
    "# Tiltaksovervakingen: opsjon for kvalitetskontroll av analysedata\n",
    "## Data visualisation"
   ]
  },
  {
   "cell_type": "code",
   "execution_count": 2,
   "metadata": {},
   "outputs": [],
   "source": [
    "# Connect to database\n",
    "dbname = \"kalk_data.db\"\n",
    "eng = sqlite3.connect(dbname, detect_types=sqlite3.PARSE_DECLTYPES)"
   ]
  },
  {
   "cell_type": "code",
   "execution_count": 3,
   "metadata": {},
   "outputs": [],
   "source": [
    "# Read tables\n",
    "stn_df = pd.read_sql(\"SELECT * FROM stations\", eng)\n",
    "par_df = pd.read_sql(\"SELECT * FROM parameters_units\", eng)\n",
    "wc_df = pd.read_sql(\"SELECT * FROM water_chemistry\", eng)\n",
    "wc_df[\"sample_date\"] = pd.to_datetime(wc_df[\"sample_date\"], format=\"%Y-%m-%d %H:%M:%S\")"
   ]
  },
  {
   "cell_type": "code",
   "execution_count": 4,
   "metadata": {},
   "outputs": [],
   "source": [
    "def make_tick_plot(df, ax_scale):\n",
    "    \"\"\"Make the tick plot.\"\"\"\n",
    "\n",
    "    base = alt.Chart(df, height=150, width=450, title=\"Strip plot\")\n",
    "\n",
    "    # Ticks\n",
    "    ticks = (\n",
    "        base.mark_tick(thickness=2, size=30, opacity=0.3)\n",
    "        .encode(\n",
    "            x=alt.X(\"value:Q\", title=\"Value\", scale=alt.Scale(type=ax_scale.lower())),\n",
    "            y=alt.Y(\n",
    "                \"lab:N\",\n",
    "                title=\"\",\n",
    "                sort=[\n",
    "                    \"NIVA (historic)\",\n",
    "                    \"VestfoldLAB (historic)\",\n",
    "                    \"VestfoldLAB (2020)\",\n",
    "                ],\n",
    "            ),\n",
    "            color=\"lab:N\",\n",
    "            tooltip=[\n",
    "                \"vannmiljo_code:N\",\n",
    "                \"sample_date:T\",\n",
    "                \"lab:N\",\n",
    "                \"parameter:N\",\n",
    "                \"unit:N\",\n",
    "                \"value:Q\",\n",
    "            ],\n",
    "        )\n",
    "        .interactive()\n",
    "    )\n",
    "\n",
    "    # Q1 and Q99\n",
    "    q_1_99 = (\n",
    "        base.transform_quantile(\n",
    "            \"value\",\n",
    "            probs=[0.01, 0.99],\n",
    "        )\n",
    "        .mark_rule(thickness=5, color=\"red\", strokeDash=[5, 5])\n",
    "        .encode(x=alt.X(\"value:Q\", title=\"Value\"))\n",
    "    )\n",
    "\n",
    "    # Q5 and Q95\n",
    "    q_5_95 = (\n",
    "        base.transform_quantile(\n",
    "            \"value\",\n",
    "            probs=[0.05, 0.95],\n",
    "        )\n",
    "        .mark_rule(thickness=5, color=\"black\", strokeDash=[5, 5])\n",
    "        .encode(x=alt.X(\"value:Q\", title=\"Value\"))\n",
    "    )\n",
    "\n",
    "    # Build plot\n",
    "    plot = ticks + q_1_99 + q_5_95\n",
    "\n",
    "    return plot\n",
    "\n",
    "\n",
    "def make_qq_plot(df, ax_scale):\n",
    "    \"\"\"Make the Q-Q plot.\"\"\"\n",
    "\n",
    "    # Calculate quantiles\n",
    "    his_df = df.query(\"period == 'historic'\")\n",
    "    new_df = df.query(\"period == 'new'\")\n",
    "    percs = np.arange(0, 100, 0.05)\n",
    "\n",
    "    his_qs = np.percentile(his_df[\"value\"], percs)\n",
    "    new_qs = np.percentile(new_df[\"value\"], percs)\n",
    "\n",
    "    qq_df = pd.DataFrame({\"percentile\": percs, \"historic\": his_qs, \"new\": new_qs})\n",
    "\n",
    "    # Plot\n",
    "    base = alt.Chart(qq_df, height=300, width=450, title=\"Q-Q plot\")\n",
    "\n",
    "    scatter = (\n",
    "        base.mark_point()\n",
    "        .encode(\n",
    "            x=alt.X(\"historic:Q\", title=\"Historic data\"),\n",
    "            y=alt.Y(\"new:Q\", title=\"New data\"),\n",
    "            color=alt.Color(\"percentile:Q\", scale=alt.Scale(scheme=\"turbo\")),\n",
    "            tooltip=[\"percentile:Q\", \"historic:Q\", \"new:Q\"],\n",
    "        )\n",
    "        .interactive()\n",
    "    )\n",
    "\n",
    "    line = base.mark_line().encode(\n",
    "        x=alt.X(\"historic:Q\", title=\"\", scale=alt.Scale(type=ax_scale.lower())),\n",
    "        y=alt.Y(\"historic:Q\", title=\"\", scale=alt.Scale(type=ax_scale.lower())),\n",
    "    )\n",
    "\n",
    "    plot = scatter + line\n",
    "\n",
    "    return plot\n",
    "\n",
    "\n",
    "def make_kde_plot(df, ax_scale):\n",
    "    \"\"\"Make a KDE plot.\"\"\"\n",
    "    base = alt.Chart(df, height=160, width=450, title=\"Density plot\")\n",
    "\n",
    "    kde = (\n",
    "        base.transform_density(\n",
    "            density=\"value\",\n",
    "            groupby=[\"lab\"],\n",
    "        )\n",
    "        .mark_area(opacity=0.3)\n",
    "        .encode(\n",
    "            x=alt.X(\"value:Q\", title=\"Value\", scale=alt.Scale(type=ax_scale.lower())),\n",
    "            y=alt.Y(\"density:Q\", title=\"\"),\n",
    "            color=\"lab:N\",\n",
    "            row=alt.Row(\n",
    "                \"lab:N\",\n",
    "                title=\"\",\n",
    "                sort=[\n",
    "                    \"NIVA (historic)\",\n",
    "                    \"VestfoldLAB (historic)\",\n",
    "                    \"VestfoldLAB (2020)\",\n",
    "                ],\n",
    "            ),\n",
    "        )\n",
    "        .interactive()\n",
    "    )\n",
    "\n",
    "    return kde"
   ]
  },
  {
   "cell_type": "code",
   "execution_count": 5,
   "metadata": {},
   "outputs": [],
   "source": [
    "def filter_data(b):\n",
    "    with output:\n",
    "        clear_output()\n",
    "\n",
    "        # Get user options\n",
    "        par = pars_dropdown.value\n",
    "        ax_scale = log_radio.value\n",
    "\n",
    "        # Get data for par\n",
    "        df = wc_df.query(\"parameter == @par\")\n",
    "\n",
    "        if (df[\"value\"].min() <= 0) and (ax_scale == \"Log\"):\n",
    "            display(Markdown(\"#### **WARNING:** The dataset contains values less than or equal to zero. These will be removed before applying the log-transform.\"))\n",
    "            df = df.query(\"value > 0\")\n",
    "\n",
    "        ticks = make_tick_plot(df, ax_scale)\n",
    "        qq = make_qq_plot(df, ax_scale)\n",
    "        kde = make_kde_plot(df, ax_scale)\n",
    "\n",
    "        plot = (ticks & qq) | kde\n",
    "        plot.configure_axis(labelFontSize=16, titleFontSize=20).configure_legend(\n",
    "            labelFontSize=16\n",
    "        )\n",
    "\n",
    "        display(plot)"
   ]
  },
  {
   "cell_type": "code",
   "execution_count": 6,
   "metadata": {},
   "outputs": [
    {
     "data": {
      "application/vnd.jupyter.widget-view+json": {
       "model_id": "38b22016a18a4deeba19ab5c34406e34",
       "version_major": 2,
       "version_minor": 0
      },
      "text/plain": [
       "Dropdown(description='Select parameter:', options=('ALK', 'ANC', 'CA', 'CL', 'ILAL', 'K', 'KOND', 'LAL', 'MG',…"
      ]
     },
     "metadata": {},
     "output_type": "display_data"
    },
    {
     "data": {
      "application/vnd.jupyter.widget-view+json": {
       "model_id": "cf0f93c5844d4aad999b378e0db5d3d4",
       "version_major": 2,
       "version_minor": 0
      },
      "text/plain": [
       "RadioButtons(description='Axis scale:', options=('Linear', 'Log'), style=DescriptionStyle(description_width='i…"
      ]
     },
     "metadata": {},
     "output_type": "display_data"
    },
    {
     "data": {
      "application/vnd.jupyter.widget-view+json": {
       "model_id": "4e44b11a6b1040339dbe63aba9aae652",
       "version_major": 2,
       "version_minor": 0
      },
      "text/plain": [
       "Button(description='Start', style=ButtonStyle(font_weight='bold'))"
      ]
     },
     "metadata": {},
     "output_type": "display_data"
    },
    {
     "data": {
      "application/vnd.jupyter.widget-view+json": {
       "model_id": "f411e6f710764d85809190f9416d43a7",
       "version_major": 2,
       "version_minor": 0
      },
      "text/plain": [
       "Output()"
      ]
     },
     "metadata": {},
     "output_type": "display_data"
    }
   ],
   "source": [
    "style = {\"description_width\": \"initial\"}\n",
    "\n",
    "par_list = sorted(list(wc_df[\"parameter\"].unique()))\n",
    "pars_dropdown = widgets.Dropdown(\n",
    "    options=par_list,\n",
    "    value=par_list[0],\n",
    "    description=\"Select parameter:\",\n",
    "    disabled=False,\n",
    ")\n",
    "\n",
    "log_radio = widgets.RadioButtons(\n",
    "    options=[\"Linear\", \"Log\"],\n",
    "    description=\"Axis scale:\",\n",
    "    disabled=False,\n",
    "    style=style,\n",
    ")\n",
    "\n",
    "start = widgets.Button(\n",
    "    description=\"Start\", disabled=False, style={\"font_weight\": \"bold\"}\n",
    ")\n",
    "\n",
    "output = widgets.Output()\n",
    "\n",
    "display(pars_dropdown, log_radio, start, output)\n",
    "\n",
    "start.on_click(filter_data)"
   ]
  },
  {
   "cell_type": "code",
   "execution_count": 7,
   "metadata": {},
   "outputs": [],
   "source": [
    "# grid = sn.FacetGrid(\n",
    "#     df, col=\"par_unit\", hue=\"lab\", col_wrap=4, sharex=False, sharey=False\n",
    "# )\n",
    "# grid.map(sn.kdeplot, \"value\")\n",
    "# [ax.set_xscale(\"log\") for ax in grid.axes]\n",
    "# grid.add_legend()"
   ]
  },
  {
   "cell_type": "code",
   "execution_count": 8,
   "metadata": {},
   "outputs": [],
   "source": [
    "# g = grid = sn.catplot(\n",
    "#     data=df,\n",
    "#     x=\"lab\",\n",
    "#     y=\"value\",\n",
    "#     col=\"par_unit\",\n",
    "#     col_wrap=4,\n",
    "#     kind=\"box\",\n",
    "#     sharex=False,\n",
    "#     sharey=False,\n",
    "# )\n",
    "# g.set(yscale=\"log\")"
   ]
  },
  {
   "cell_type": "code",
   "execution_count": 9,
   "metadata": {},
   "outputs": [],
   "source": [
    "# import altair as alt\n",
    "# alt.data_transformers.enable('json')\n",
    "\n",
    "# alt.Chart(df).mark_boxplot().encode(\n",
    "#     x='lab:O',\n",
    "#     y='value',\n",
    "#     color=alt.Color('lab'),\n",
    "#     facet=alt.Facet('par_unit:N',\n",
    "#                     columns=4),\n",
    "# ).interactive()"
   ]
  },
  {
   "cell_type": "code",
   "execution_count": 10,
   "metadata": {},
   "outputs": [],
   "source": [
    "# alt.data_transformers.disable_max_rows()\n",
    "\n",
    "# # Build drop-down list\n",
    "# par_list = [\"None\"] + sorted(df[\"par_unit\"].unique())\n",
    "# input_dropdown = alt.binding_select(options=par_list)\n",
    "# selection = alt.selection_single(\n",
    "#     fields=[\"par_unit\"], bind=input_dropdown, name=\"Select\"\n",
    "# )\n",
    "\n",
    "# alt.Chart(df).mark_tick(thickness=2, size=40, opacity=0.3).encode(\n",
    "#     y=\"lab:N\",\n",
    "#     x=\"value:Q\",\n",
    "#     color=\"lab:N\",  # alt.Color(\"value:Q\", scale=alt.Scale(scheme=\"reds\")),\n",
    "#     tooltip=[\"vannmiljo_code:N\", \"sample_date:T\", \"lab:N\", \"par_unit:N\", \"value:Q\"],\n",
    "# ).properties(width=600, height=200,).add_selection(selection).transform_filter(\n",
    "#     selection\n",
    "# ).interactive()"
   ]
  }
 ],
 "metadata": {
  "kernelspec": {
   "display_name": "Python 3",
   "language": "python",
   "name": "python3"
  },
  "language_info": {
   "codemirror_mode": {
    "name": "ipython",
    "version": 3
   },
   "file_extension": ".py",
   "mimetype": "text/x-python",
   "name": "python",
   "nbconvert_exporter": "python",
   "pygments_lexer": "ipython3",
   "version": "3.8.5"
  }
 },
 "nbformat": 4,
 "nbformat_minor": 4
}
