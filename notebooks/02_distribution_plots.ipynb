{
 "cells": [
  {
   "cell_type": "code",
   "execution_count": 1,
   "metadata": {},
   "outputs": [
    {
     "data": {
      "text/plain": [
       "DataTransformerRegistry.enable('json')"
      ]
     },
     "execution_count": 1,
     "metadata": {},
     "output_type": "execute_result"
    }
   ],
   "source": [
    "import glob\n",
    "import os\n",
    "import shutil\n",
    "import sqlite3\n",
    "\n",
    "import altair as alt\n",
    "import numpy as np\n",
    "import pandas as pd\n",
    "\n",
    "#alt.data_transformers.disable_max_rows()\n",
    "alt.data_transformers.enable(\"json\")"
   ]
  },
  {
   "cell_type": "markdown",
   "metadata": {},
   "source": [
    "# Tiltaksovervakingen: opsjon for kvalitetskontroll av analysedata\n",
    "## Notebook 2: Visualising overall parameter distributions\n",
    "\n",
    "This notebook produces the plots [here](https://nivanorge.github.io/tiltaksovervakingen/pages/distribution_plots.html)."
   ]
  },
  {
   "cell_type": "markdown",
   "metadata": {},
   "source": [
    "## 1. Read data\n",
    "\n",
    "Read the tables from the tidied database."
   ]
  },
  {
   "cell_type": "code",
   "execution_count": 2,
   "metadata": {},
   "outputs": [],
   "source": [
    "# Connect to database\n",
    "dbname = \"kalk_data.db\"\n",
    "eng = sqlite3.connect(dbname, detect_types=sqlite3.PARSE_DECLTYPES)"
   ]
  },
  {
   "cell_type": "code",
   "execution_count": 3,
   "metadata": {},
   "outputs": [],
   "source": [
    "# Read tables\n",
    "stn_df = pd.read_sql(\"SELECT * FROM stations\", eng)\n",
    "par_df = pd.read_sql(\"SELECT * FROM parameters_units\", eng)\n",
    "wc_df = pd.read_sql(\"SELECT * FROM water_chemistry\", eng)\n",
    "wc_df[\"sample_date\"] = pd.to_datetime(wc_df[\"sample_date\"], format=\"%Y-%m-%d %H:%M:%S\")\n",
    "wc_df[\"parameter_unit\"] = wc_df[\"parameter\"] + \"_\" + wc_df[\"unit\"]"
   ]
  },
  {
   "cell_type": "code",
   "execution_count": 4,
   "metadata": {},
   "outputs": [],
   "source": [
    "# Set axis scale for plots\n",
    "ax_scale = \"Linear\" # Or 'Log'"
   ]
  },
  {
   "cell_type": "markdown",
   "metadata": {},
   "source": [
    "## 2. Build visualisation"
   ]
  },
  {
   "cell_type": "code",
   "execution_count": 5,
   "metadata": {},
   "outputs": [],
   "source": [
    "# Build drop-down list\n",
    "par_list = ['None'] + sorted(wc_df[\"parameter_unit\"].unique())\n",
    "input_dropdown = alt.binding_select(options=par_list)\n",
    "selection = alt.selection_single(\n",
    "    fields=[\"parameter_unit\"], bind=input_dropdown, name=\"Select\"\n",
    ")"
   ]
  },
  {
   "cell_type": "code",
   "execution_count": 6,
   "metadata": {},
   "outputs": [],
   "source": [
    "# Ticks\n",
    "ticks = alt.Chart(wc_df, height=150, width=450, title=\"Strip plot\",\n",
    ").add_selection(\n",
    "    selection\n",
    ").transform_filter(\n",
    "    selection\n",
    ").mark_tick(thickness=2, size=30, opacity=0.3,\n",
    ").encode(\n",
    "    x=alt.X(\"value:Q\", title=\"Value\", scale=alt.Scale(type=ax_scale.lower())),\n",
    "    y=alt.Y(\n",
    "        \"lab:N\",\n",
    "        title=\"\",\n",
    "        sort=[\n",
    "            \"NIVA (historic)\",\n",
    "            \"VestfoldLAB (historic)\",\n",
    "            \"VestfoldLAB (2020)\",\n",
    "        ],\n",
    "        ),\n",
    "        color=\"lab:N\",\n",
    "        tooltip=[\n",
    "            \"vannmiljo_code:N\",\n",
    "            \"sample_date:T\",\n",
    "            \"lab:N\",\n",
    "            \"parameter:N\",\n",
    "            \"unit:N\",\n",
    "            \"value:Q\",\n",
    "        ],\n",
    ").interactive()\n",
    "\n",
    "ticks.configure_axis(labelFontSize=16, titleFontSize=20,\n",
    ").configure_legend(labelFontSize=16)\n",
    "\n",
    "# Q-Q plot\n",
    "base = alt.Chart(wc_df, height=300, width=450, title=\"Q-Q plot\")\n",
    "\n",
    "scatter = base.transform_filter(\n",
    "    selection\n",
    ").transform_quantile(\n",
    "    'value',\n",
    "    step=0.05,\n",
    "    as_=['percentile', 'value'],\n",
    "    groupby=['period'],\n",
    ").transform_pivot(\n",
    "    'period',\n",
    "    groupby=['percentile'],\n",
    "    value='value'\n",
    ").mark_point().encode(\n",
    "    x=alt.X('historic:Q', title=\"Historic data\", scale=alt.Scale(type=ax_scale.lower())),\n",
    "    y=alt.Y('new:Q', title=\"New data\", scale=alt.Scale(type=ax_scale.lower())),\n",
    "    color=alt.Color(\"percentile:Q\", scale=alt.Scale(scheme=\"turbo\")),\n",
    "    tooltip=[\"percentile:Q\", \"historic:Q\", \"new:Q\"],\n",
    ").interactive()\n",
    "\n",
    "# 1:1 line\n",
    "line = base.transform_filter(\n",
    "    selection\n",
    ").transform_quantile(\n",
    "    'value',\n",
    "    step=0.05,\n",
    "    as_=['percentile', 'value'],\n",
    "    groupby=['period'],\n",
    ").transform_pivot(\n",
    "    'period',\n",
    "    groupby=['percentile'],\n",
    "    value='value'\n",
    ").mark_line().encode(\n",
    "    x=alt.X('historic:Q', title=\"\", scale=alt.Scale(type=ax_scale.lower())),\n",
    "    y=alt.Y('historic:Q', title=\"\", scale=alt.Scale(type=ax_scale.lower())),\n",
    ")\n",
    "\n",
    "qq_plot = (scatter + line)\n",
    "qq_plot.configure_axis(labelFontSize=16, titleFontSize=20,\n",
    ").configure_legend(labelFontSize=16)\n",
    "\n",
    "# KDE plot\n",
    "kde = alt.Chart(wc_df, height=160, width=450, title=\"Density plot\",\n",
    ").transform_filter(\n",
    "    selection\n",
    ").transform_density(\n",
    "    density=\"value\",\n",
    "    groupby=[\"lab\"],\n",
    ").mark_area(opacity=0.3,\n",
    ").encode(\n",
    "    x=alt.X(\"value:Q\", title=\"Value\", scale=alt.Scale(type=ax_scale.lower())),\n",
    "    y=alt.Y(\"density:Q\", title=\"\"),\n",
    "    color=\"lab:N\",\n",
    "    row=alt.Row(\n",
    "        \"lab:N\",\n",
    "        title=\"\",\n",
    "        sort=[\n",
    "            \"NIVA (historic)\",\n",
    "            \"VestfoldLAB (historic)\",\n",
    "            \"VestfoldLAB (2020)\",\n",
    "        ],\n",
    "    ),\n",
    ").interactive()\n",
    "\n",
    "kde.configure_axis(labelFontSize=16, titleFontSize=20,\n",
    ").configure_legend(labelFontSize=16)\n",
    "\n",
    "chart = (ticks & qq_plot) | kde\n",
    "chart.save('distribution_plots.json')"
   ]
  },
  {
   "cell_type": "code",
   "execution_count": 7,
   "metadata": {},
   "outputs": [],
   "source": [
    "# Move files to 'pages' folder\n",
    "flist = glob.glob(\"*.json\")\n",
    "for fpath in flist:\n",
    "    shutil.copy(fpath, \"../pages/\")\n",
    "    os.remove(fpath)"
   ]
  },
  {
   "cell_type": "markdown",
   "metadata": {},
   "source": [
    "## 3. Summary\n",
    "\n",
    "The final plots can be explored [here](https://nivanorge.github.io/tiltaksovervakingen/pages/distribution_plots.html). Note the following:\n",
    "\n",
    " * Many of the biggest \"outliers\" are actually in the historic data from Vannmiljø. Whether these are actually errors or just genuine \"extreme\" results, I do not know\n",
    " \n",
    " * The following patterns should be checked more closely:\n",
    " \n",
    "   * Values of `ALK` > 1 mmol/l reported by NIVA (2012-15)\n",
    "   * Values of `ANC` > 1000 µekv/l reported by NIVA (2012-15)\n",
    "   * Values of `CA` > 100 mg/l reported by NIVA (2012-15)\n",
    "   * Values of `CL` > 30 mg/l reported by both NIVA (2012-15) and VestfoldLAB (2016-19)\n",
    "   * Values of `KOND` > 100 mS/m reported by NIVA (2012-15)\n",
    "   * Values of `K` > 2 mg/l reported by VestfoldLAB (2016-19)\n",
    "   * Values of `MG` > 10 mg/l reported by NIVA (2012-15)\n",
    "   * Values of `N-TOT` > 2000 µg/l N reported by VestfoldLAB in both 2016-19 and 2020\n",
    "   * Values of `NA` > 10 mg/l reported by both NIVA (2012-15) and VestfoldLAB (2016-19)\n",
    "   * Values of `P-TOT` > 100 µg/l P reported by both NIVA (2012-15) and VestfoldLAB (2016-19 and 2020). In particular, a value of 1200 µg/l P was reported by VestfoldLAB in 2020\n",
    "   * Values of `PH` < 4 reported by NIVA (2012-15)\n",
    "   * Values of `PH` > 9.5 reported by VestfoldLAB (2016-19)\n",
    "   * Values of `RAL` > 250 µg/l Al reported by both NIVA (2012-15) and VestfoldLAB (2016-19)\n",
    "   * **All** `SIO2` data reported by VestfoldLAB to Vannmiljø during 2016-19 (see below)\n",
    "   * Values of `SO4` > 5 mg/l reported by both NIVA (2012-15) and VestfoldLAB (2016-19)\n",
    "   \n",
    " \n",
    " * `N-NO3` from VestfoldLAB (2016-19) is missing from the data export. I suspect - but have not had chance to check - that VestfoldLAB have reported (nitrate + nitrite) rather than just nitrate. If this is correct, we should clarify whether the current values are actually `N-NO3` (as stated in the spreadsheet) or if they include nitrite too\n",
    " \n",
    " * The `SIO2` data reported by VestfoldLAB to Vannmiljø looks suspicious. According to Vannmiljø, the mean value of `SIO2` reported by VestfoldLAB between 2016 and 2019 was 1.5 ***µg/l Si***, whereas the mean reported by NIVA between 2012 and 2015 was 650 µg/l Si. In the 2020 data from VestfoldLAB, the mean value for `SIO2` is 1.3 ***mg/l SiO2***. I therefore strongly suspect the `SIO2` values in Vannmiljø from VestfoldLAB have been mistakenly reported in mg/l SiO2 rather than µg/l Si. **In other words, the `SIO2` data from VestfoldLAB in Vannmiljø is a factor of 467.54 too small**\n",
    " \n",
    " * The zero values reported by VestfoldLAB look strange for some parameters"
   ]
  }
 ],
 "metadata": {
  "kernelspec": {
   "display_name": "Python 3",
   "language": "python",
   "name": "python3"
  },
  "language_info": {
   "codemirror_mode": {
    "name": "ipython",
    "version": 3
   },
   "file_extension": ".py",
   "mimetype": "text/x-python",
   "name": "python",
   "nbconvert_exporter": "python",
   "pygments_lexer": "ipython3",
   "version": "3.8.6"
  }
 },
 "nbformat": 4,
 "nbformat_minor": 4
}
