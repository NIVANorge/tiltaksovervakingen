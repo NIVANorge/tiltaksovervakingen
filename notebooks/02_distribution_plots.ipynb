{
 "cells": [
  {
   "cell_type": "code",
   "execution_count": 1,
   "metadata": {},
   "outputs": [
    {
     "data": {
      "text/plain": [
       "DataTransformerRegistry.enable('json')"
      ]
     },
     "execution_count": 1,
     "metadata": {},
     "output_type": "execute_result"
    }
   ],
   "source": [
    "import glob\n",
    "import shutil\n",
    "import sqlite3\n",
    "\n",
    "import altair as alt\n",
    "import numpy as np\n",
    "import pandas as pd\n",
    "\n",
    "# alt.data_transformers.disable_max_rows()\n",
    "alt.data_transformers.enable(\"json\")"
   ]
  },
  {
   "cell_type": "code",
   "execution_count": 2,
   "metadata": {},
   "outputs": [],
   "source": [
    "# Connect to database\n",
    "dbname = \"kalk_data.db\"\n",
    "eng = sqlite3.connect(dbname, detect_types=sqlite3.PARSE_DECLTYPES)"
   ]
  },
  {
   "cell_type": "code",
   "execution_count": 3,
   "metadata": {},
   "outputs": [],
   "source": [
    "# Read tables\n",
    "stn_df = pd.read_sql(\"SELECT * FROM stations\", eng)\n",
    "par_df = pd.read_sql(\"SELECT * FROM parameters_units\", eng)\n",
    "wc_df = pd.read_sql(\"SELECT * FROM water_chemistry\", eng)\n",
    "wc_df[\"sample_date\"] = pd.to_datetime(wc_df[\"sample_date\"], format=\"%Y-%m-%d %H:%M:%S\")\n",
    "wc_df[\"parameter_unit\"] = wc_df[\"parameter\"] + \"_\" + wc_df[\"unit\"]\n",
    "\n",
    "ax_scale = \"Linear\""
   ]
  },
  {
   "cell_type": "code",
   "execution_count": 4,
   "metadata": {},
   "outputs": [],
   "source": [
    "# Build drop-down list\n",
    "par_list = ['None'] + sorted(wc_df[\"parameter_unit\"].unique())\n",
    "input_dropdown = alt.binding_select(options=par_list)\n",
    "selection = alt.selection_single(\n",
    "    fields=[\"parameter_unit\"], bind=input_dropdown, name=\"Select\"\n",
    ")"
   ]
  },
  {
   "cell_type": "code",
   "execution_count": 5,
   "metadata": {},
   "outputs": [],
   "source": [
    "# Ticks\n",
    "ticks = alt.Chart(wc_df, height=150, width=450, title=\"Strip plot\",\n",
    ").add_selection(\n",
    "    selection\n",
    ").transform_filter(\n",
    "    selection\n",
    ").mark_tick(thickness=2, size=30, opacity=0.3,\n",
    ").encode(\n",
    "    x=alt.X(\"value:Q\", title=\"Value\", scale=alt.Scale(type=ax_scale.lower())),\n",
    "    y=alt.Y(\n",
    "        \"lab:N\",\n",
    "        title=\"\",\n",
    "        sort=[\n",
    "            \"NIVA (historic)\",\n",
    "            \"VestfoldLAB (historic)\",\n",
    "            \"VestfoldLAB (2020)\",\n",
    "        ],\n",
    "        ),\n",
    "        color=\"lab:N\",\n",
    "        tooltip=[\n",
    "            \"vannmiljo_code:N\",\n",
    "            \"sample_date:T\",\n",
    "            \"lab:N\",\n",
    "            \"parameter:N\",\n",
    "            \"unit:N\",\n",
    "            \"value:Q\",\n",
    "        ],\n",
    ").interactive()\n",
    "\n",
    "# Q-Q plot\n",
    "base = alt.Chart(wc_df, height=300, width=450, title=\"Q-Q plot\")\n",
    "\n",
    "scatter = base.transform_filter(\n",
    "    selection\n",
    ").transform_quantile(\n",
    "    'value',\n",
    "    step=0.05,\n",
    "    as_=['percentile', 'value'],\n",
    "    groupby=['period'],\n",
    ").transform_pivot(\n",
    "    'period',\n",
    "    groupby=['percentile'],\n",
    "    value='value'\n",
    ").mark_point().encode(\n",
    "    x=alt.X('historic:Q', title=\"Historic data\", scale=alt.Scale(type=ax_scale.lower())),\n",
    "    y=alt.Y('new:Q', title=\"New data\", scale=alt.Scale(type=ax_scale.lower())),\n",
    "    color=alt.Color(\"percentile:Q\", scale=alt.Scale(scheme=\"turbo\")),\n",
    "    tooltip=[\"percentile:Q\", \"historic:Q\", \"new:Q\"],\n",
    ").interactive()\n",
    "\n",
    "# 1:1 line\n",
    "line = base.transform_filter(\n",
    "    selection\n",
    ").transform_quantile(\n",
    "    'value',\n",
    "    step=0.05,\n",
    "    as_=['percentile', 'value'],\n",
    "    groupby=['period'],\n",
    ").transform_pivot(\n",
    "    'period',\n",
    "    groupby=['percentile'],\n",
    "    value='value'\n",
    ").mark_line().encode(\n",
    "    x=alt.X('historic:Q', title=\"\", scale=alt.Scale(type=ax_scale.lower())),\n",
    "    y=alt.Y('historic:Q', title=\"\", scale=alt.Scale(type=ax_scale.lower())),\n",
    ")\n",
    "\n",
    "# KDE plot\n",
    "kde = alt.Chart(wc_df, height=160, width=450, title=\"Density plot\",\n",
    ").transform_filter(\n",
    "    selection\n",
    ").transform_density(\n",
    "    density=\"value\",\n",
    "    groupby=[\"lab\"],\n",
    ").mark_area(opacity=0.3,\n",
    ").encode(\n",
    "    x=alt.X(\"value:Q\", title=\"Value\", scale=alt.Scale(type=ax_scale.lower())),\n",
    "    y=alt.Y(\"density:Q\", title=\"\"),\n",
    "    color=\"lab:N\",\n",
    "    row=alt.Row(\n",
    "        \"lab:N\",\n",
    "        title=\"\",\n",
    "        sort=[\n",
    "            \"NIVA (historic)\",\n",
    "            \"VestfoldLAB (historic)\",\n",
    "            \"VestfoldLAB (2020)\",\n",
    "        ],\n",
    "    ),\n",
    ").interactive()\n",
    "\n",
    "chart = (ticks & (scatter + line)) | kde\n",
    "chart.configure_axis(labelFontSize=16, titleFontSize=20,\n",
    ").configure_legend(labelFontSize=16)\n",
    "\n",
    "chart.save('distribution_plots.json')"
   ]
  },
  {
   "cell_type": "code",
   "execution_count": 6,
   "metadata": {},
   "outputs": [
    {
     "ename": "Error",
     "evalue": "Destination path '../pages/altair-data-8e3776c21c950fbcc70e890d74624289.json' already exists",
     "output_type": "error",
     "traceback": [
      "\u001b[0;31m---------------------------------------------------------------------------\u001b[0m",
      "\u001b[0;31mError\u001b[0m                                     Traceback (most recent call last)",
      "\u001b[0;32m<ipython-input-6-b0dea5eaa148>\u001b[0m in \u001b[0;36m<module>\u001b[0;34m\u001b[0m\n\u001b[1;32m      2\u001b[0m \u001b[0mflist\u001b[0m \u001b[0;34m=\u001b[0m \u001b[0mglob\u001b[0m\u001b[0;34m.\u001b[0m\u001b[0mglob\u001b[0m\u001b[0;34m(\u001b[0m\u001b[0;34m\"*.json\"\u001b[0m\u001b[0;34m)\u001b[0m\u001b[0;34m\u001b[0m\u001b[0;34m\u001b[0m\u001b[0m\n\u001b[1;32m      3\u001b[0m \u001b[0;32mfor\u001b[0m \u001b[0mfpath\u001b[0m \u001b[0;32min\u001b[0m \u001b[0mflist\u001b[0m\u001b[0;34m:\u001b[0m\u001b[0;34m\u001b[0m\u001b[0;34m\u001b[0m\u001b[0m\n\u001b[0;32m----> 4\u001b[0;31m     \u001b[0mshutil\u001b[0m\u001b[0;34m.\u001b[0m\u001b[0mmove\u001b[0m\u001b[0;34m(\u001b[0m\u001b[0mfpath\u001b[0m\u001b[0;34m,\u001b[0m \u001b[0;34m\"../pages/\"\u001b[0m\u001b[0;34m)\u001b[0m\u001b[0;34m\u001b[0m\u001b[0;34m\u001b[0m\u001b[0m\n\u001b[0m",
      "\u001b[0;32m/opt/conda/lib/python3.8/shutil.py\u001b[0m in \u001b[0;36mmove\u001b[0;34m(src, dst, copy_function)\u001b[0m\n\u001b[1;32m    784\u001b[0m         \u001b[0mreal_dst\u001b[0m \u001b[0;34m=\u001b[0m \u001b[0mos\u001b[0m\u001b[0;34m.\u001b[0m\u001b[0mpath\u001b[0m\u001b[0;34m.\u001b[0m\u001b[0mjoin\u001b[0m\u001b[0;34m(\u001b[0m\u001b[0mdst\u001b[0m\u001b[0;34m,\u001b[0m \u001b[0m_basename\u001b[0m\u001b[0;34m(\u001b[0m\u001b[0msrc\u001b[0m\u001b[0;34m)\u001b[0m\u001b[0;34m)\u001b[0m\u001b[0;34m\u001b[0m\u001b[0;34m\u001b[0m\u001b[0m\n\u001b[1;32m    785\u001b[0m         \u001b[0;32mif\u001b[0m \u001b[0mos\u001b[0m\u001b[0;34m.\u001b[0m\u001b[0mpath\u001b[0m\u001b[0;34m.\u001b[0m\u001b[0mexists\u001b[0m\u001b[0;34m(\u001b[0m\u001b[0mreal_dst\u001b[0m\u001b[0;34m)\u001b[0m\u001b[0;34m:\u001b[0m\u001b[0;34m\u001b[0m\u001b[0;34m\u001b[0m\u001b[0m\n\u001b[0;32m--> 786\u001b[0;31m             \u001b[0;32mraise\u001b[0m \u001b[0mError\u001b[0m\u001b[0;34m(\u001b[0m\u001b[0;34m\"Destination path '%s' already exists\"\u001b[0m \u001b[0;34m%\u001b[0m \u001b[0mreal_dst\u001b[0m\u001b[0;34m)\u001b[0m\u001b[0;34m\u001b[0m\u001b[0;34m\u001b[0m\u001b[0m\n\u001b[0m\u001b[1;32m    787\u001b[0m     \u001b[0;32mtry\u001b[0m\u001b[0;34m:\u001b[0m\u001b[0;34m\u001b[0m\u001b[0;34m\u001b[0m\u001b[0m\n\u001b[1;32m    788\u001b[0m         \u001b[0mos\u001b[0m\u001b[0;34m.\u001b[0m\u001b[0mrename\u001b[0m\u001b[0;34m(\u001b[0m\u001b[0msrc\u001b[0m\u001b[0;34m,\u001b[0m \u001b[0mreal_dst\u001b[0m\u001b[0;34m)\u001b[0m\u001b[0;34m\u001b[0m\u001b[0;34m\u001b[0m\u001b[0m\n",
      "\u001b[0;31mError\u001b[0m: Destination path '../pages/altair-data-8e3776c21c950fbcc70e890d74624289.json' already exists"
     ]
    }
   ],
   "source": [
    "# Move files to 'pages' folder\n",
    "flist = glob.glob(\"*.json\")\n",
    "for fpath in flist:\n",
    "    shutil.move(fpath, \"../pages/\")"
   ]
  }
 ],
 "metadata": {
  "kernelspec": {
   "display_name": "Python 3",
   "language": "python",
   "name": "python3"
  },
  "language_info": {
   "codemirror_mode": {
    "name": "ipython",
    "version": 3
   },
   "file_extension": ".py",
   "mimetype": "text/x-python",
   "name": "python",
   "nbconvert_exporter": "python",
   "pygments_lexer": "ipython3",
   "version": "3.8.5"
  }
 },
 "nbformat": 4,
 "nbformat_minor": 4
}
